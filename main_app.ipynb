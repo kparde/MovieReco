{
 "cells": [
  {
   "cell_type": "markdown",
   "metadata": {},
   "source": [
    "# Main Streamlit HomePage\n",
    "5 pages:\n",
    "- Visualizations   \n",
    "- Top rated movies with filtering \n",
    "- Item-Item recommendations\n",
    "- Personalized recommendations\n",
    "- User profile creation: provide ratings    \n",
    "   \n",
    "Process:\n",
    "1. Import pages as modules\n",
    "2. Set up data with cached functions\n",
    "    - Call data functions from the various page modules so that all loaded in once when the app initially loads, thus decreasing wait time when switch between pages\n",
    "    - Cached so that the data is not reloaded at every user selection \n",
    "3. Create empty user profiles (lists) to be filled if the user creates a new profile\n",
    "    - One profile per session to simulate a log in experience\n",
    "4. Create side navigation bar and call page module's write() function according to user selection \n",
    "    - If create a profile, return the updated objects so can be used in personalized recommendations"
   ]
  },
  {
   "cell_type": "markdown",
   "metadata": {},
   "source": [
    "#### To Run:\n",
    "1. Convert notebook to py file\n",
    "    - Run in command line: py -m jupyter nbconvert --to script main_app.ipynb\n",
    "    - Also convert all pages notebooks\n",
    "2. Run streamlit app\n",
    "    - Run in command line: streamlit run main_app.py"
   ]
  },
  {
   "cell_type": "code",
   "execution_count": 1,
   "metadata": {},
   "outputs": [],
   "source": [
    "import streamlit as st \n",
    "import pandas as pd\n",
    "import os\n",
    "import numpy as np\n",
    "import operator\n",
    "import fastparquet\n",
    "import re\n",
    "from fuzzywuzzy import fuzz\n",
    "from sklearn.feature_extraction.text import TfidfVectorizer\n",
    "from sklearn.metrics.pairwise import linear_kernel\n",
    "import sklearn"
   ]
  },
  {
   "cell_type": "markdown",
   "metadata": {},
   "source": [
    "### Import Individual Pages"
   ]
  },
  {
   "cell_type": "code",
   "execution_count": null,
   "metadata": {},
   "outputs": [],
   "source": [
    "import pages.home_page\n",
    "import pages.non_user_recommendations\n",
    "import pages.item_item_rec_app\n",
    "import pages.personalized_rec_app\n",
    "import pages.profile_add_app\n",
    "import pages.EDA_Streamlit_page"
   ]
  },
  {
   "cell_type": "markdown",
   "metadata": {},
   "source": [
    "## Set up data\n",
    "- df: data for displaying on page with movie attributes. Created in recommendation_data_display.ipynb\n",
    "- x_unique: lists of unique values of features that can be filtered\n",
    "- ratings_df: ratings data\n",
    "- df_dummies1, df_dummies2: 2 sparse matricies with relevant features for the two versions of personalized recommendations\n",
    "- movieIds: list of all movieIds to mark rows of sparse matrices \n",
    "- movieIds_notags, movieIds_tags: list of all movieIds without tags and with tags so can limit recommendations produced by two personalization models accordingly\n",
    "\n",
    "Much of this data is needed for multiple of the pages, so more efficient to only load once in the main app and then feed into the respective functions. Cached so that only run once, not every time the user makes a selection."
   ]
  },
  {
   "cell_type": "code",
   "execution_count": 2,
   "metadata": {},
   "outputs": [],
   "source": [
    "@st.cache(allow_output_mutation=True)\n",
    "def data_setup():\n",
    "    # read in data created in recommendation_data_display.ipynb\n",
    "    df = pd.read_parquet('processed_files/recommendation_display.parq')\n",
    "\n",
    "    # get unique lists of all filter values for user selections \n",
    "    genres_unique, actors_df, directors_df, countries_unique, language_unique, tags_unique, decades_unique, movies_unique = pages.non_user_recommendations.unique_lists(df)\n",
    "    \n",
    "    # data for personalized recommendations\n",
    "    ratings_df, movieIds, df_dummies1, df_dummies2, collab_predictions, movieIds_tags, movieIds_notags = pages.personalized_rec_app.load_data()\n",
    "        \n",
    "    return df, genres_unique, actors_df, directors_df, countries_unique, language_unique, tags_unique, decades_unique, movies_unique, ratings_df, movieIds, df_dummies1, df_dummies2, collab_predictions, movieIds_tags, movieIds_notags"
   ]
  },
  {
   "cell_type": "code",
   "execution_count": 5,
   "metadata": {
    "scrolled": true
   },
   "outputs": [],
   "source": [
    "df, genres_unique, actors_df, directors_df, countries_unique, language_unique, tags_unique, decades_unique, movies_unique, ratings_df, movieIds, df_dummies1, df_dummies2, collab_predictions, movieIds_tags, movieIds_notags = data_setup()"
   ]
  },
  {
   "cell_type": "markdown",
   "metadata": {},
   "source": [
    "## Set up Empty New User Profile\n",
    "- Mutable list objects so that preserved between runs of script. Cached funciton that creates empty lists will not be rerun, so you can add things to profiles multiple times and the profile (list) will be preserved\n",
    "- Generate new unique user ID for this session (max existing ID + 1)\n",
    "    - User only gets one ID per session to create a new profile with. Simulating a login experience. "
   ]
  },
  {
   "cell_type": "code",
   "execution_count": null,
   "metadata": {},
   "outputs": [],
   "source": [
    "# function creates empty lists, so not overwritten when page refreshes\n",
    "# only works with mutable data types\n",
    "@st.cache(allow_output_mutation=True)\n",
    "def list_create():\n",
    "    return [], [], [], [], []"
   ]
  },
  {
   "cell_type": "code",
   "execution_count": null,
   "metadata": {},
   "outputs": [],
   "source": [
    "@st.cache(allow_output_mutation=True)\n",
    "def empty_profile_create(ratings_df):\n",
    "\n",
    "    # empty lists to hold user input: will persist across user refresh because of function\n",
    "    new_ratings, new_users, new_movies, new_titles, userId_new = list_create()    \n",
    "\n",
    "    # generate a new user id \n",
    "    # append to list because changes every time the page is run. Only want first max entry. \n",
    "    userId_new.append(int(ratings_df.userId.max() + 1))\n",
    "    \n",
    "    return new_ratings, new_users, new_movies, new_titles, userId_new"
   ]
  },
  {
   "cell_type": "code",
   "execution_count": null,
   "metadata": {},
   "outputs": [],
   "source": [
    "new_ratings, new_users, new_movies, new_titles, userId_new = empty_profile_create(ratings_df)"
   ]
  },
  {
   "cell_type": "markdown",
   "metadata": {},
   "source": [
    "# Main Function: Navigation between Pages\n",
    "- Side radio menu that user can select page based on. Defaulted to home page.    \n",
    "- Once select page, call write() function within each page with appropriate data arguments to generate that page     \n",
    "- Return any updated profile data so can be repassed in for use in personalized recommendations "
   ]
  },
  {
   "cell_type": "code",
   "execution_count": null,
   "metadata": {},
   "outputs": [],
   "source": [
    "PAGES = ['Home', 'Top Movie Visualizations', 'Top Rated Movies', 'Movie Based Recommendations',\n",
    "         'Personalized Recommendations', 'Add Profile']"
   ]
  },
  {
   "cell_type": "code",
   "execution_count": 12,
   "metadata": {},
   "outputs": [],
   "source": [
    "def main(df, genres_unique, actors_df, directors_df, countries_unique, language_unique, tags_unique, decades_unique,\n",
    "         movies_unique, df_dummies1, df_dummies2, collab_predictions, ratings_df, movieIds, movieIds_notags, movieIds_tags,\n",
    "         new_ratings, new_users, new_movies, new_titles, userId_new):\n",
    "    \n",
    "    # set up side navigation\n",
    "    st.sidebar.title(\"Navigation\")\n",
    "    selection = st.sidebar.radio(\"Go to\", PAGES)    \n",
    "    \n",
    "    # depending on user selection, call write function\n",
    "    if selection == 'Home':\n",
    "        pages.home_page.write()\n",
    "    if selection == 'Top Movie Visualizations':\n",
    "        pages.EDA_Streamlit_page.write()\n",
    "    if selection == 'Top Rated Movies':\n",
    "        pages.non_user_recommendations.write(df, genres_unique, actors_df, \n",
    "                                             directors_df, countries_unique, language_unique, tags_unique, decades_unique)\n",
    "    if selection == 'Movie Based Recommendations':\n",
    "        pages.item_item_rec_app.write(df, df_dummies1, df_dummies2, movieIds, movieIds_notags, movieIds_tags)\n",
    "    if selection == 'Personalized Recommendations':\n",
    "        pages.personalized_rec_app.write(df, genres_unique, actors_df, directors_df, countries_unique,\n",
    "                                         language_unique, tags_unique, decades_unique,\n",
    "                                         new_ratings, new_users, new_movies, ratings_df, movieIds,\n",
    "                                        collab_predictions, df_dummies1, df_dummies2, movieIds_notags, movieIds_tags)\n",
    "        \n",
    "    if selection == 'Add Profile':\n",
    "        new_ratings, new_users, new_movies, new_titles = pages.profile_add_app.write(df, new_ratings, new_users,\n",
    "                                                                                     new_movies, new_titles, userId_new,\n",
    "                                                                                     ratings_df)\n",
    "        \n",
    "    # return any updated profile data so can be repassed in for use in personalized recommendations\n",
    "    return new_ratings, new_users, new_movies, new_titles"
   ]
  },
  {
   "cell_type": "code",
   "execution_count": null,
   "metadata": {},
   "outputs": [],
   "source": [
    "new_ratings, new_users, new_movies, new_titles = main(df, genres_unique, actors_df, directors_df, countries_unique,\n",
    "                                                      language_unique, tags_unique, decades_unique, movies_unique,\n",
    "                                                      df_dummies1, df_dummies2, collab_predictions, ratings_df, \n",
    "                                                      movieIds, movieIds_notags, movieIds_tags,\n",
    "                                                      new_ratings, new_users, new_movies, new_titles, userId_new)"
   ]
  }
 ],
 "metadata": {
  "kernelspec": {
   "display_name": "Python 3",
   "language": "python",
   "name": "python3"
  },
  "language_info": {
   "codemirror_mode": {
    "name": "ipython",
    "version": 3
   },
   "file_extension": ".py",
   "mimetype": "text/x-python",
   "name": "python",
   "nbconvert_exporter": "python",
   "pygments_lexer": "ipython3",
   "version": "3.8.3"
  }
 },
 "nbformat": 4,
 "nbformat_minor": 4
}
