{
 "cells": [
  {
   "cell_type": "markdown",
   "metadata": {},
   "source": [
    "# Functions to Evaluate Recommendation Models\n",
    "Functionalized code such that different content models are imported as modules and then standard evaluation functions are called and the results are saved to a text file.   \n",
    "The following markdown describes the various parameters that must be set depending on the model being evaluated \n",
    "\n",
    "- 5 metrics: personalization, precision & recall @K, personal diversity, global diversity, average rating \n",
    "- For all metrics, calculate on a random subset of users and take average value. For personalization, take average across k sets (folds) of random users because comparing users to each other.    \n",
    "- Set seeds such that evaluate different models on the same set of users \n",
    "- Record results from each model in a text file to compare"
   ]
  },
  {
   "cell_type": "markdown",
   "metadata": {},
   "source": [
    "## Evaluation Metrics\n",
    "Described more thoroughly with visualizations of matrix multiplication in Methodological Appendix\n",
    "\n",
    "- Personalized recommendations: provide materially different sets of recommendations for different users\n",
    "- Accurate recommendations: high precision and recall based on test/train split of user ratings\n",
    "- Personal diversity: provide variety of recommendations to each individual user\n",
    "- Average rating: recommend high quality movies with high average ratings\n",
    "- Global diversity: recommend movies in the long tail. Do not only recommend popular movies because this will not increase overall viewership, engagement with the streaming platform "
   ]
  },
  {
   "cell_type": "markdown",
   "metadata": {},
   "source": [
    "## Flow of Model Building/Testing\n",
    "1. Content models with different combinations of metadata\n",
    "2. Combined content models where some subset of movies are evaluated using one model and another subset with another\n",
    "    - Best result is used for item-item recommendations in UI\n",
    "3. Collaboartive Filtering Models\n",
    "4. Combined collaborative filtering and content models where some subset of movies are evaluated with collaborative filtering and another subset with a content model \n",
    "    - Best result is used for personalized recommendations in UI"
   ]
  },
  {
   "cell_type": "markdown",
   "metadata": {},
   "source": [
    "## How To: Import Recommendation System\n",
    "\n",
    "1)  Convert recommendation system notebook to .py\n",
    "\n",
    "2) Import function using:\n",
    "\n",
    "from <name.py> import <name of the recomendation function>\n",
    "    \n",
    "example: from contentbasedrecommendationsystem import user_content_recommendations\n",
    "    \n",
    "3) recommendation_system: give the name of the recommendation system, you want to get the evaluations for   \n",
    "    \n",
    "    \n",
    "## How to: Run different types of models\n",
    "- Individual content model with full data:\n",
    "    - df1 = sparse dataset\n",
    "    - cols1 = columns from df1\n",
    "    - movieIds = moviesIds (row names) from df1\n",
    "    - keep_movies = movieIds  \n",
    "    - keep_movies1 = []\n",
    "    - keep_movies2 = []\n",
    "    - recommendation_system = content_based_recommendations.user_content_recommendations\n",
    "    - df2 = False, cols2 = False, recommendation_system_input1, recommendation_system_input2 = False\n",
    "    - list_user = set(ratings.userId)\n",
    "- Individual content model with specific subsets of movies:\n",
    "    - keep_movies = subset of movies (likely either movieIds_tags or movieIds_notags)\n",
    "        - Evaluate on subset\n",
    "    - keep_movies1 = same subset \n",
    "        - Generate recommendations only from subset\n",
    "    - Else same\n",
    "- Combined content model with two different input datasets\n",
    "    - df1 = sparse dataset1 , df2 = sparse dataset2\n",
    "    - cols1 = columns from df1, col2 = columns from df2\n",
    "    - keep_movies = movieIds  (evaluate on all movies)\n",
    "    - keep_movies1 = subset 1\n",
    "    - keep_movies2 = subset 2\n",
    "    - keep_movies = movieIds (row names) from df1 or df2 -- identical \n",
    "    - recommendation_system_input1 = content_based_recommendations.user_content_recommendations\n",
    "    - recommendation_system_input2 = False\n",
    "    - recommendation_system = content_based_recommendations_combine.content_models_combine\n",
    "    - list_user = set(ratings.userId)\n",
    "- Collaborative model\n",
    "    - df1 = sparse dataset1 (baseline content) \n",
    "        - Evaluate personal diversity based on baseline features\n",
    "    - df2 = collaborative filtering pretrained\n",
    "    - keep_movies = collab_predictions.movieId.unique()\n",
    "    - keep_movies1, keep_movies2 = []\n",
    "    - recommendation_system = collab_recommendations.collab_recommendations\n",
    "    - df1, cols1, recommendation_system_input1, recommendation_system_input2 = False\n",
    "    - list_user = set(collab_predictions.userId)\n",
    "- Combined content and collaborative model\n",
    "    - df1 = sparse dataset1, df2 = collab_predictions (pre-computed predictions)\n",
    "    - keep_movies = movieIds \n",
    "    - keep_movies1, keep_movies2 = []\n",
    "        - Kept movies calculated at a user level\n",
    "    - recommendation_system_input1 = content_based_recommendations.user_content_recommendations\n",
    "    - recommendation_system_input2 = collab_recommendations.collab_recommendations\n",
    "    - recommendation_system = recommendation_system = collab_content_recommendations_combine.collab_content_combine\n",
    "    - list_user = set(collab_predictions.userId)"
   ]
  },
  {
   "cell_type": "markdown",
   "metadata": {},
   "source": [
    "# Result Summary\n",
    "List text file titles and (sparse dataframe) for each model. See Methodological Appendix for full summary of results and conclusions. \n",
    "\n",
    "### Content Models \n",
    "- content_initial_eval.txt (processed_df_sparse): genre, actor, director. Cosine similarity between movies\n",
    "- contentv2_noMovieNorm_eval.txt (processed_df_sparse): same data, but no normalization of movie vector (true for all others)\n",
    "- content_all_meta_eval.txt (processed_df_all_meta_sparse): genre, actor, director, decade, country, production company \n",
    "    - Try also with each individual feature in the \"all\" version: content_<genre, actors_directors, decade, country, production>_eval.txt\n",
    "- content_baseline_plus_prod_eval.txt: genre, actors, director, production company \n",
    "    - country and decade individually perform poorly individually\n",
    "- content_desc_eval.txt (processed_df_desc): top 5 TF-IDF tokens from movie description\n",
    "    - Add Genre tokens: content_desc_genre_eval.txt (processed_df_desc_genre_sparse): description tokens and genre\n",
    "- content_tags_eval (processed_df_tags_sparse): top 5 TF-IDF genome tags\n",
    "- content_tags_rel_eval.txt (processed_df_tags_rel_sparse): top 5 genome tags by relevance score\n",
    "- content_baseline_tags_rel_eval.txt (processed_df_baseline_tags_rel_sparse): top 5 tags by relevance + baseline features\n",
    "- content_text_eval.txt (processed_df_text_sparse): top 5 TF-IDF text field (tags + description)\n",
    "\n",
    "### Combined Content Models\n",
    "(1) Evaluate models on relevant dataset     \n",
    "- content_tags_rel_only_eval.txt (processed_df_tags_rel_sparse + keep_cols = movieIds_tags): top 5 genome tags by relevance score ONLY with movies that have tags\n",
    "- content_tags_only_eval.txt (processed_df_tags_sparse + keep_cols = movieIds_tags): top 5 genome tags by tfidf ONLY with movies that have tags\n",
    "- content_text_tagsonly_eval.txt (processed_df_text_sparse + keep_cols = movieIds_tags): top 5 tags+description fields by tfidf ONLY with movies that have tags\n",
    "- content_baseline_notags_eval.txt (processed_df_sparse + keep_cols = movieIds_notags): baseline model (genre, actor, director) only for movies without tags (long tail) \n",
    "\n",
    "(2) Evaluate combined models on full dataset   \n",
    "- content_twomodels_tags_rel_eval.txt: combination of content_baseline_notags_eval and content_tags_rel_only_eval models using content_based_recommendations_combine system\n",
    "- content_twomodels_tags_eval.txt: combination of content_baseline_notags_eval and content_tags_only_eval models using content_based_recommendations_combine system\n",
    "- content_twomodels_text_eval.txt: combination of content_baseline_notags_eval and content_text_tagsonly_eval models using content_based_recommendations_combine system\n",
    "\n",
    "### Collaborative Filtering \n",
    "- Evaluation_collaborative_filtering_model_svdpp.txt: SVDpp model \n",
    "- collaborative_with_sim_msd.txt: KNNbaseline with Mean Squared Difference similarity\n",
    "- collaborative_with_sim_pearson_baseline.txt: KNNbaseline with Pearson correlation coefficient similarity \n",
    "\n",
    "### Combined Collaborative Filtering, Content Models\n",
    "(1) Which content model to use for movies not in collaborative filtering\n",
    "- content_baseline_nocollab_eval.txt: Baseline content model on movies not included in collaborative filtering predictions\n",
    "    - keep_movies = set(movieIds).difference(set(collab_predictions.movieId.unique())) \n",
    "    - keep_movies1 = set(movieIds).difference(set(collab_predictions.movieId.unique())) \n",
    "    - list_user = set(collab_predictions.userId)\n",
    "- content_combined_tags_nocollab_eval.txt: Combined text model on movies not included in collaborative filtering \n",
    "    - keep_movies = set(movieIds).difference(set(collab_predictions.movieId.unique())) \n",
    "    - keep_movies1 = set(movieIds_notags).difference(set(collab_predictions.movieId.unique())) \n",
    "    - keep_movies2 = set(movieIds_tags).difference(set(collab_predictions.movieId.unique())) \n",
    "    - list_user = set(collab_predictions.userId)\n",
    "  \n",
    "(2) Combined content and collaborative filtering model \n",
    "- collab_content_combine_5000users.txt: combination of content_baseline_nocollab_eval and best collaborative model using collab_content_combine system"
   ]
  },
  {
   "cell_type": "code",
   "execution_count": 1,
   "metadata": {
    "scrolled": false
   },
   "outputs": [],
   "source": [
    "import pandas as pd\n",
    "import os\n",
    "import numpy as np\n",
    "import matplotlib.pyplot as plt\n",
    "import seaborn as sns\n",
    "import datetime as datetime\n",
    "import operator\n",
    "import scipy.spatial.distance as distance\n",
    "from sklearn import metrics \n",
    "import random\n",
    "import time\n",
    "from sklearn.model_selection import train_test_split\n",
    "from sklearn.linear_model import LinearRegression\n",
    "import fastparquet\n",
    "import pickle\n",
    "import scipy\n",
    "import sklearn\n",
    "from surprise import SVD, Dataset, Reader, KNNBaseline\n",
    "import recommendation_models.content_based_recommendations\n",
    "import recommendation_models.content_based_recommendations_combine\n",
    "import recommendation_models.collab_content_recommendations_combine\n",
    "import recommendation_models.collab_recommendations"
   ]
  },
  {
   "cell_type": "markdown",
   "metadata": {},
   "source": [
    "## Load Data"
   ]
  },
  {
   "cell_type": "code",
   "execution_count": 2,
   "metadata": {},
   "outputs": [],
   "source": [
    "# ratings and movie ratings aggregation data\n",
    "ratings = pd.read_parquet('processed_files/ratings_sample.parq')\n",
    "ratings = ratings.reset_index()\n",
    "movies_ratings = pd.read_parquet('processed_files/movies_ratings.parq')\n",
    "movies_ratings = movies_ratings.rename(columns={\"avg\": \"Average_Ratings\"})\n",
    "movies_ratings['weighted_avg'] = movies_ratings.cnt * movies_ratings.Average_Ratings"
   ]
  },
  {
   "cell_type": "code",
   "execution_count": 3,
   "metadata": {
    "scrolled": true
   },
   "outputs": [],
   "source": [
    "# specify sparse matricies of features to use for content attributes \n",
    "df1 = scipy.sparse.load_npz(\"processed_files/processed_df_sparse.npz\")\n",
    "#df1 = scipy.sparse.load_npz(\"processed_files/processed_df_text_sparse.npz\")\n",
    "#df2 = False\n",
    "\n",
    "# preloaded collaborative filtering predictions\n",
    "collab_predictions = pd.read_parquet('processed_files/Predictions_5000/KNN_predictions_df.parq')\n",
    "collab_predictions = collab_predictions.rename(columns = {'est':'prediction', 'uid':'userId', 'iid':'movieId'})\n",
    "collab_predictions = collab_predictions.drop(columns = ['r_ui', 'details.actual_k', 'details.was_impossible'])\n",
    "df2 = collab_predictions.copy()\n",
    "\n",
    "with open('processed_files/sparse_metadata', \"rb\") as f:\n",
    "    cols1 = pickle.load(f)\n",
    "    movieIds = pickle.load(f)\n",
    "    \n",
    "with open('processed_files/sparse_metadata_text', \"rb\") as f:\n",
    "    cols2 = pickle.load(f)\n",
    "    movieIds = pickle.load(f)\n",
    "cols2 = False"
   ]
  },
  {
   "cell_type": "code",
   "execution_count": 4,
   "metadata": {},
   "outputs": [],
   "source": [
    "# load movieId lists for movies with and without tags so can specify which movies to keep for which models\n",
    "with open('processed_files/movieIds_tags', \"rb\") as f:\n",
    "    movieIds_tags = pickle.load(f)\n",
    "with open('processed_files/movieIds_notags', \"rb\") as f:\n",
    "    movieIds_notags = pickle.load(f)"
   ]
  },
  {
   "cell_type": "code",
   "execution_count": 5,
   "metadata": {},
   "outputs": [],
   "source": [
    "# specify which movies we want to keep for evaluation and for generating recommendations \n",
    "keep_movies = movieIds # evaluate against\n",
    "keep_movies1 = [] # generate recs from model 1 (df1) - if [] then all movies\n",
    "keep_movies2 = [] # generate recs from model 2 (df2) - if [] then all movies "
   ]
  },
  {
   "cell_type": "code",
   "execution_count": 6,
   "metadata": {},
   "outputs": [],
   "source": [
    "# list of users to consider for random sampling\n",
    "#list_user = set(ratings.userId)\n",
    "list_user = set(collab_predictions.userId)"
   ]
  },
  {
   "cell_type": "code",
   "execution_count": 7,
   "metadata": {
    "scrolled": true
   },
   "outputs": [],
   "source": [
    "# use to get a subset of columns from processed_df_all_meta_sparse\n",
    "#index = [cols.index(i) for i in cols if i.startswith('production') | i.startswith('genres') | i.startswith('actors') |\n",
    "#        i.startswith('director')]\n",
    "#df = df[:, index]\n",
    "#cols = [cols[i] for i in index]"
   ]
  },
  {
   "cell_type": "markdown",
   "metadata": {},
   "source": [
    "## Define Parameters\n",
    "- n = # number of users\n",
    "- top_n = # top recommendations"
   ]
  },
  {
   "cell_type": "code",
   "execution_count": 8,
   "metadata": {},
   "outputs": [],
   "source": [
    "n = 20\n",
    "top_n = 10"
   ]
  },
  {
   "cell_type": "markdown",
   "metadata": {},
   "source": [
    "## Helper Fns"
   ]
  },
  {
   "cell_type": "code",
   "execution_count": 9,
   "metadata": {},
   "outputs": [],
   "source": [
    "# get top n recommendations with movieIds\n",
    "def user_movie_id(movies,n):\n",
    "    return movies['movieId'][:n]\n",
    "\n",
    "# get top n recommendations with average raitngs\n",
    "def user_avg_rating(movies,n):\n",
    "    return movies['Average_Ratings'][:n]"
   ]
  },
  {
   "cell_type": "markdown",
   "metadata": {},
   "source": [
    "## Specify recommendation system(s)"
   ]
  },
  {
   "cell_type": "code",
   "execution_count": 10,
   "metadata": {},
   "outputs": [],
   "source": [
    "recommendation_system_input1 = recommendation_models.content_based_recommendations.user_content_recommendations\n",
    "recommendation_system_input2 = recommendation_models.collab_recommendations.collab_recommendations\n",
    "#recommendation_system_input1 = False\n",
    "#recommendation_system_input2 = False\n",
    "\n",
    "#recommendation_system = recommendation_models.content_based_recommendations.user_content_recommendations\n",
    "#recommendation_system = recommendation_models.content_based_recommendations_combine.content_models_combine\n",
    "#recommendation_system = recommendation_models.collab_recommendations.collab_recommendations\n",
    "recommendation_system = recommendation_models.collab_content_recommendations_combine.collab_content_combine"
   ]
  },
  {
   "cell_type": "markdown",
   "metadata": {},
   "source": [
    "## Open file to record evaluations"
   ]
  },
  {
   "cell_type": "code",
   "execution_count": 11,
   "metadata": {},
   "outputs": [],
   "source": [
    "f = open(\"evaluations/collab_content_combine_5000users.txt\", \"w\")"
   ]
  },
  {
   "cell_type": "markdown",
   "metadata": {},
   "source": [
    "# Personalization \n",
    "How different are recommendations for different users? Are our recomendations actually personalized?    \n",
    "     \n",
    "K fold cross-validation across several sets of users\n",
    "- Generate recommendations for n users\n",
    "- Create movie matrix with row = user, column = movie, value = 1/0 for if movie recommended\n",
    "- Cosine similarity between users. Average of elements above the diagonal\n",
    "- Repeat for k folds and take overall average"
   ]
  },
  {
   "cell_type": "code",
   "execution_count": 12,
   "metadata": {},
   "outputs": [],
   "source": [
    "# return user predictions for each user in users_list\n",
    "# return list of all predictions for users in user_list\n",
    "def get_users_prediction(users_list,top_n,users_prediction,recommendation_system, df1, ratings, movieIds, movies_ratings,\n",
    "                         keep_movies1, df2 = False, keep_movies2 = False,\n",
    "                         recommendation_system_input1 = False, recommendation_system_input2 = False):\n",
    "    for i in users_list:\n",
    "        # generate recommendations \n",
    "        recommendation = recommendation_system(i, df1, ratings, movieIds, movies_ratings, keep_movies1, \n",
    "                                               df2, keep_movies2, recommendation_system_input1, recommendation_system_input2)\n",
    "        # top_n recommendations\n",
    "        prediction = user_movie_id(recommendation,top_n).astype(int).values\n",
    "        # append to list of predictions\n",
    "        users_prediction = users_prediction.append(pd.Series(prediction),ignore_index=True)\n",
    "        \n",
    "    return users_prediction\n",
    "\n",
    "# generate movie matrix: \n",
    "# row = user; column = movie ; value = 0 movie not recommended, 1 movie recommended\n",
    "def user_matrix(users_pred):\n",
    "    data_melt= pd.DataFrame(data=users_pred).reset_index().melt(id_vars='index', value_name='movieId',)\n",
    "    data_melt = data_melt[['index', 'movieId']].pivot(index='index', columns='movieId', values='movieId')\n",
    "    cols = data_melt.columns\n",
    "    \n",
    "    # replace na with 0\n",
    "    for i in cols:\n",
    "        data_melt[i] = np.where(data_melt[i].isna(), 0, 1)\n",
    "        \n",
    "    return data_melt\n",
    "\n",
    "# generating cosine similarity between the users. Same movie recommended for multiple users? \n",
    "# then getting the indicies of elements above diagonal (giving diagonal offsert =1 in triu_indices)\n",
    "# calculating the avg of the element above diagonal \n",
    "# Personalization means 1 - similarity\n",
    "# higher the personalization score, better the recommendation system in recommending personalized movies (minimize similarity)\n",
    "def personalization(users_matrix,n):\n",
    "   \n",
    "    # cosine similiarity\n",
    "    users_sim = metrics.pairwise.cosine_similarity(users_matrix)\n",
    "    \n",
    "    # upper triangle\n",
    "    iu1 = np.triu_indices(n,k=1)\n",
    "    \n",
    "    # average in upper \n",
    "    similarity_avg = np.mean(users_sim[iu1])\n",
    "    \n",
    "    # 1 - similarity. Want to maximize score (minimize similarity)\n",
    "    personalization_score = 1 - similarity_avg\n",
    "\n",
    "    return personalization_score\n",
    "\n",
    "\n",
    "# evaluate personalization on k random folds. Mean. \n",
    "def cross_fold_eval(unique_users,recommendation_system, movies_ratings, df1, keep_movies1, \n",
    "                    df2 = False, keep_movies2 = False, \n",
    "                    recommendation_system_input1 = False, recommendation_system_input2 = False, \n",
    "                    k_fold=10,n=10,top_n=10):\n",
    "    \n",
    "    # initiate to sum scores across folds (take average at end)\n",
    "    kfold_personalization=0\n",
    "    \n",
    "    # look through k folds\n",
    "    for i in range(k_fold):\n",
    "        \n",
    "        # generate list of n random users\n",
    "        users_list = random.sample(unique_users, n)\n",
    "        \n",
    "        # columns: top_n recommendations\n",
    "        # users_prediction:  top_n recommendations for n users. \n",
    "        column_names = list(range(top_n))\n",
    "        users_prediction = pd.DataFrame(columns = column_names)\n",
    "                \n",
    "        # getting predictions for all sampled users\n",
    "        users_pred = get_users_prediction(users_list,top_n,users_prediction,recommendation_system, \n",
    "                                          df1, ratings, movieIds, movies_ratings, keep_movies1,\n",
    "                                          df2, keep_movies2, recommendation_system_input1, recommendation_system_input2)\n",
    "        \n",
    "        # getting user by movies matrix with binary indicators 0: movie not recommended, 1: movie got recommended\n",
    "        users_matrix = user_matrix(users_pred)\n",
    "        \n",
    "        # find personalization score based on movie matrix. Sum across folds \n",
    "        kfold_personalization+=personalization(users_matrix,n)\n",
    "        \n",
    "        \n",
    "    # average across all folds\n",
    "    kfold_eval = kfold_personalization/k_fold\n",
    "    \n",
    "    # write to file \n",
    "    print(f'Personalization score for {k_fold} folds across {n} users for top {top_n} recommendations: {kfold_eval}', file = f)"
   ]
  },
  {
   "cell_type": "code",
   "execution_count": 13,
   "metadata": {
    "scrolled": true
   },
   "outputs": [],
   "source": [
    "# get unique user set \n",
    "# K-fold cross validation for personalization score \n",
    "cross_fold_eval(list_user,recommendation_system, movies_ratings, df1, keep_movies1, df2, keep_movies2,\n",
    "                recommendation_system_input1, recommendation_system_input2, n = n, top_n = top_n)"
   ]
  },
  {
   "cell_type": "markdown",
   "metadata": {},
   "source": [
    "# Precision and Recall \n",
    "- Generate train/test split among users that have at least 20 rated target movies\n",
    "- Generate recommendations on train, see if got any \"correct\" from test. Calculate precision, recall\n",
    "- Average across users"
   ]
  },
  {
   "cell_type": "markdown",
   "metadata": {},
   "source": [
    "### Random samples of users who have rated minimum of 20 movies OUT OF target movies (keep_movies)\n",
    "Need enough movie ratings to do a reasonable train/test split. \n",
    "- keep_movies: universe of movie we want to calculate precision and recall in \n",
    "- n_users: Number of users to filter the from the dataset"
   ]
  },
  {
   "cell_type": "code",
   "execution_count": 14,
   "metadata": {},
   "outputs": [
    {
     "name": "stdout",
     "output_type": "stream",
     "text": [
      " Number of users who rated at least 20 movies: 5000\n"
     ]
    }
   ],
   "source": [
    "def target_users(ratings, keep_movies, list_user, n_users = 1000):\n",
    "    \n",
    "    # keep users with at least 20 ratings out of target movies (keep_movies)\n",
    "    users_list = ratings[(ratings.movieId.isin(keep_movies)) & (ratings.userId.isin(list_user))\n",
    "                        ].groupby('userId')['userId'].count().reset_index(name=\"rating_count\")\n",
    "    users_list = set(users_list[users_list['rating_count']>=20]['userId'].values)\n",
    "    print(f' Number of users who rated at least 20 movies: {len(users_list)}')\n",
    "    \n",
    "    # random sample of n_users \n",
    "    random.seed(42)\n",
    "    random_users = random.sample(users_list, min(n_users, len(users_list)))\n",
    "    # get the ratings of the random sample of users\n",
    "    users_ratings = ratings[ratings.userId.isin(random_users)]\n",
    "    \n",
    "    return users_ratings, random_users\n",
    "\n",
    "users_ratings, random_users_20 = target_users(ratings, keep_movies, list_user)"
   ]
  },
  {
   "cell_type": "markdown",
   "metadata": {},
   "source": [
    "### train/test split - Keeping the users distribution similar\n",
    "Select subset of users and then split each user's ratings into train/test"
   ]
  },
  {
   "cell_type": "code",
   "execution_count": 15,
   "metadata": {},
   "outputs": [],
   "source": [
    "def train_test_split(random_users, users_ratings):\n",
    "    \n",
    "    # creating train/test empty dataframe\n",
    "    train = pd.DataFrame(columns=['index','userId', 'movieId', 'rating','timestamp'])\n",
    "    test = pd.DataFrame(columns=['index','userId', 'movieId', 'rating','timestamp'])\n",
    "\n",
    "    # spliting each user data equally in train test\n",
    "    for i in random_users:\n",
    "        \n",
    "        #getting individual user index in the users_ratings list\n",
    "        random_index =set(users_ratings[users_ratings['userId'] == i].index.values)\n",
    "\n",
    "        # dividing the user ratings count/2\n",
    "        n_len = np.math.floor(len(random_index)/2)\n",
    "\n",
    "        # getting index for train data: random half of that user's ratings\n",
    "        train_ind = set(random.sample(random_index, n_len))\n",
    "\n",
    "        # getting index for test data by removing train index from all index for that user\n",
    "        test_ind = set(random_index-train_ind)\n",
    "\n",
    "        # assign indexes to train, test set\n",
    "        df_train = users_ratings.loc[train_ind]\n",
    "        df_test = users_ratings.loc[test_ind]\n",
    "        \n",
    "        # appending that user data to train/test df\n",
    "        train = train.append(df_train)\n",
    "        test = test.append(df_test)\n",
    "        \n",
    "    return train, test\n",
    "\n",
    "train, test = train_test_split(random_users_20, users_ratings)"
   ]
  },
  {
   "cell_type": "markdown",
   "metadata": {},
   "source": [
    "### Calculate Average Precision, Recall across random users\n",
    "- Generate recommendations based on training data. See if get movies from the test data that the user actually liked\n",
    "- Relevant item: Has in test with rating >= 2 \n",
    "    - Generous definition of relevant because hard to get precision, recall without user feedback. \n",
    "    - Limit to movies in keep_movies set. Only movies possibly being generated by model\n",
    "- Precision@k = (# of recommended items @k that are relevant) / (# of recommended items @k)\n",
    "- Recall@k = (# of recommended items @k that are relevant) / (total # of relevant items)   "
   ]
  },
  {
   "cell_type": "code",
   "execution_count": 16,
   "metadata": {},
   "outputs": [],
   "source": [
    "# precision@K = (# of recommended items @k that are relevant) / (# of recommended items @k)\n",
    "def calc_precision_k(recommended_relevant_count,recommended_count):\n",
    "    precision_k = recommended_relevant_count/recommended_count\n",
    "    return precision_k\n",
    "\n",
    "# Recall@k = (# of recommended items @k that are relevant) / (total # of relevant items)   \n",
    "def calc_recall_k(recommended_relevant_count,relevant_count):\n",
    "    if relevant_count==0:\n",
    "        return 0\n",
    "    else:\n",
    "        recall_k = recommended_relevant_count/relevant_count\n",
    "        return recall_k\n",
    "    \n",
    "# average precision and recall across random users\n",
    "def avg_precision_recall(random_userId, recommendation_system, train, test, keep_movies, movies_ratings, df1, keep_movies1, \n",
    "                         df2 = False, keep_movies2 = False, \n",
    "                         recommendation_system_input1 = False, recommendation_system_input2 = False,\n",
    "                         top_n = 10, k = 5):\n",
    "    \n",
    "    # lists to record\n",
    "    avg_precision=[]\n",
    "    avg_recall =[]\n",
    "    tot_rec_rel = []\n",
    "    \n",
    "    # if sparse matrix, then generating recommendations from a second set of recommendations\n",
    "    if type(df2) == scipy.sparse.csc.csc_matrix:\n",
    "        df_option = df2.copy()\n",
    "    # if dataframe, then generating collaborative filtering recommendations where need to use precision option with test set\n",
    "    if type(df2) == pd.core.frame.DataFrame:\n",
    "        df_option = test.copy()\n",
    "\n",
    "    \n",
    "    # look through user subset\n",
    "    for i in random_userId:\n",
    "        \n",
    "        # generate recommendations \n",
    "        recommendation = recommendation_system(i, df1, train, movieIds, movies_ratings, keep_movies1,\n",
    "                                               df_option, keep_movies2, recommendation_system_input1, recommendation_system_input2,\n",
    "                                               precision = True)\n",
    "        # getting the recommended movies @k\n",
    "        recommended_movies = set(recommendation[:k].movieId)\n",
    "\n",
    "        # number of recommended movie @k\n",
    "        recommended_count = k\n",
    "        \n",
    "        # getting relevant movies, where ratings >= 2\n",
    "        # limit to keep movies as these are the only movies being possibly produced by the recommendation system \n",
    "        relevant_movies =set(test[(test.movieId.isin(keep_movies)) &\n",
    "                                  (test['userId']==i) & (test['rating']>=2) ]['movieId'].values)\n",
    "        # Total number of relevant movie\n",
    "        relevant_count = len(relevant_movies)\n",
    "        \n",
    "        # Getting movies that are relevant and recommended (set intersection)\n",
    "        recommended_relevant_movies = recommended_movies.intersection(relevant_movies)\n",
    "        \n",
    "        # number of relevant recommended movies\n",
    "        recommended_relevant_count = len(recommended_relevant_movies)\n",
    "        \n",
    "        # calculate precision, recall\n",
    "        precision_k = calc_precision_k(recommended_relevant_count,recommended_count)\n",
    "        recall_k = calc_recall_k(recommended_relevant_count,relevant_count)\n",
    "        \n",
    "        # record \n",
    "        avg_precision.append(precision_k)\n",
    "        avg_recall.append(recall_k)\n",
    "        tot_rec_rel.append(recommended_relevant_count) # absoute number of recommended relevant movies \n",
    "        \n",
    "    # take average across n users \n",
    "    precision_avg = np.mean(avg_precision)\n",
    "    recall_avg = np.mean(avg_recall)\n",
    "    rec_rel_avg = np.mean(tot_rec_rel)\n",
    "\n",
    "    return precision_avg, recall_avg, rec_rel_avg"
   ]
  },
  {
   "cell_type": "code",
   "execution_count": 17,
   "metadata": {},
   "outputs": [],
   "source": [
    "# out of elligible users, get random subset of n from training data (same users as in test data)\n",
    "\n",
    "random.seed(42)\n",
    "train_user_id = set(train.userId.values)\n",
    "random_userId = random.sample(train_user_id, n)"
   ]
  },
  {
   "cell_type": "markdown",
   "metadata": {},
   "source": [
    "__Evaluate at several values of K__    \n",
    "Most informative is k = 10 because generally generating 10 recommendations for display"
   ]
  },
  {
   "cell_type": "code",
   "execution_count": 18,
   "metadata": {
    "scrolled": true
   },
   "outputs": [
    {
     "name": "stdout",
     "output_type": "stream",
     "text": [
      "Estimating biases using als...\n",
      "Computing the pearson_baseline similarity matrix...\n",
      "Done computing similarity matrix.\n",
      "Estimating biases using als...\n",
      "Computing the pearson_baseline similarity matrix...\n",
      "Done computing similarity matrix.\n",
      "Estimating biases using als...\n",
      "Computing the pearson_baseline similarity matrix...\n",
      "Done computing similarity matrix.\n",
      "Estimating biases using als...\n",
      "Computing the pearson_baseline similarity matrix...\n",
      "Done computing similarity matrix.\n",
      "Estimating biases using als...\n",
      "Computing the pearson_baseline similarity matrix...\n",
      "Done computing similarity matrix.\n",
      "Estimating biases using als...\n",
      "Computing the pearson_baseline similarity matrix...\n",
      "Done computing similarity matrix.\n",
      "Estimating biases using als...\n",
      "Computing the pearson_baseline similarity matrix...\n",
      "Done computing similarity matrix.\n",
      "Estimating biases using als...\n",
      "Computing the pearson_baseline similarity matrix...\n",
      "Done computing similarity matrix.\n",
      "Estimating biases using als...\n",
      "Computing the pearson_baseline similarity matrix...\n",
      "Done computing similarity matrix.\n",
      "Estimating biases using als...\n",
      "Computing the pearson_baseline similarity matrix...\n",
      "Done computing similarity matrix.\n",
      "Estimating biases using als...\n",
      "Computing the pearson_baseline similarity matrix...\n",
      "Done computing similarity matrix.\n",
      "Estimating biases using als...\n",
      "Computing the pearson_baseline similarity matrix...\n",
      "Done computing similarity matrix.\n",
      "Estimating biases using als...\n",
      "Computing the pearson_baseline similarity matrix...\n",
      "Done computing similarity matrix.\n",
      "Estimating biases using als...\n",
      "Computing the pearson_baseline similarity matrix...\n",
      "Done computing similarity matrix.\n",
      "Estimating biases using als...\n",
      "Computing the pearson_baseline similarity matrix...\n",
      "Done computing similarity matrix.\n",
      "Estimating biases using als...\n",
      "Computing the pearson_baseline similarity matrix...\n",
      "Done computing similarity matrix.\n",
      "Estimating biases using als...\n",
      "Computing the pearson_baseline similarity matrix...\n",
      "Done computing similarity matrix.\n",
      "Estimating biases using als...\n",
      "Computing the pearson_baseline similarity matrix...\n",
      "Done computing similarity matrix.\n",
      "Estimating biases using als...\n",
      "Computing the pearson_baseline similarity matrix...\n",
      "Done computing similarity matrix.\n",
      "Estimating biases using als...\n",
      "Computing the pearson_baseline similarity matrix...\n",
      "Done computing similarity matrix.\n"
     ]
    }
   ],
   "source": [
    "k = 5\n",
    "precision_k,recall_k, rec_rel_avg = avg_precision_recall(random_userId, recommendation_system,\n",
    "                                                         train, test, keep_movies, movies_ratings, \n",
    "                                                         df1, keep_movies1, df2, keep_movies2, \n",
    "                                                         recommendation_system_input1, recommendation_system_input2,\n",
    "                                                         top_n, k)\n",
    "\n",
    "print(f'Avg Precision at {k} for {n} users: {precision_k}', file = f)\n",
    "print(f'Avg Recall at {k} for {n} users: {recall_k}', file = f)\n",
    "print(f'Avg Number of relevant recommendations at {k} for {n} users: {rec_rel_avg}', file = f)"
   ]
  },
  {
   "cell_type": "code",
   "execution_count": 19,
   "metadata": {
    "scrolled": true
   },
   "outputs": [
    {
     "name": "stdout",
     "output_type": "stream",
     "text": [
      "Estimating biases using als...\n",
      "Computing the pearson_baseline similarity matrix...\n",
      "Done computing similarity matrix.\n",
      "Estimating biases using als...\n",
      "Computing the pearson_baseline similarity matrix...\n",
      "Done computing similarity matrix.\n",
      "Estimating biases using als...\n",
      "Computing the pearson_baseline similarity matrix...\n",
      "Done computing similarity matrix.\n",
      "Estimating biases using als...\n",
      "Computing the pearson_baseline similarity matrix...\n",
      "Done computing similarity matrix.\n",
      "Estimating biases using als...\n",
      "Computing the pearson_baseline similarity matrix...\n",
      "Done computing similarity matrix.\n",
      "Estimating biases using als...\n",
      "Computing the pearson_baseline similarity matrix...\n",
      "Done computing similarity matrix.\n",
      "Estimating biases using als...\n",
      "Computing the pearson_baseline similarity matrix...\n",
      "Done computing similarity matrix.\n",
      "Estimating biases using als...\n",
      "Computing the pearson_baseline similarity matrix...\n",
      "Done computing similarity matrix.\n",
      "Estimating biases using als...\n",
      "Computing the pearson_baseline similarity matrix...\n",
      "Done computing similarity matrix.\n",
      "Estimating biases using als...\n",
      "Computing the pearson_baseline similarity matrix...\n",
      "Done computing similarity matrix.\n",
      "Estimating biases using als...\n",
      "Computing the pearson_baseline similarity matrix...\n",
      "Done computing similarity matrix.\n",
      "Estimating biases using als...\n",
      "Computing the pearson_baseline similarity matrix...\n",
      "Done computing similarity matrix.\n",
      "Estimating biases using als...\n",
      "Computing the pearson_baseline similarity matrix...\n",
      "Done computing similarity matrix.\n",
      "Estimating biases using als...\n",
      "Computing the pearson_baseline similarity matrix...\n",
      "Done computing similarity matrix.\n",
      "Estimating biases using als...\n",
      "Computing the pearson_baseline similarity matrix...\n",
      "Done computing similarity matrix.\n",
      "Estimating biases using als...\n",
      "Computing the pearson_baseline similarity matrix...\n",
      "Done computing similarity matrix.\n",
      "Estimating biases using als...\n",
      "Computing the pearson_baseline similarity matrix...\n",
      "Done computing similarity matrix.\n",
      "Estimating biases using als...\n",
      "Computing the pearson_baseline similarity matrix...\n",
      "Done computing similarity matrix.\n",
      "Estimating biases using als...\n",
      "Computing the pearson_baseline similarity matrix...\n",
      "Done computing similarity matrix.\n",
      "Estimating biases using als...\n",
      "Computing the pearson_baseline similarity matrix...\n",
      "Done computing similarity matrix.\n"
     ]
    }
   ],
   "source": [
    "k = 10\n",
    "precision_k,recall_k, rec_rel_avg = avg_precision_recall(random_userId, recommendation_system,\n",
    "                                                         train, test, keep_movies, movies_ratings, \n",
    "                                                         df1, keep_movies1, df2, keep_movies2, \n",
    "                                                         recommendation_system_input1, recommendation_system_input2,\n",
    "                                                         top_n, k)\n",
    "print(f'Avg Precision at {k} for {n} users: {precision_k}', file = f)\n",
    "print(f'Avg Recall at {k} for {n} users: {recall_k}', file = f)\n",
    "print(f'Avg Number of relevant recommendations at {k} for {n} users: {rec_rel_avg}', file = f)"
   ]
  },
  {
   "cell_type": "code",
   "execution_count": 20,
   "metadata": {
    "scrolled": true
   },
   "outputs": [
    {
     "name": "stdout",
     "output_type": "stream",
     "text": [
      "Estimating biases using als...\n",
      "Computing the pearson_baseline similarity matrix...\n",
      "Done computing similarity matrix.\n",
      "Estimating biases using als...\n",
      "Computing the pearson_baseline similarity matrix...\n",
      "Done computing similarity matrix.\n",
      "Estimating biases using als...\n",
      "Computing the pearson_baseline similarity matrix...\n",
      "Done computing similarity matrix.\n",
      "Estimating biases using als...\n",
      "Computing the pearson_baseline similarity matrix...\n",
      "Done computing similarity matrix.\n",
      "Estimating biases using als...\n",
      "Computing the pearson_baseline similarity matrix...\n",
      "Done computing similarity matrix.\n",
      "Estimating biases using als...\n",
      "Computing the pearson_baseline similarity matrix...\n",
      "Done computing similarity matrix.\n",
      "Estimating biases using als...\n",
      "Computing the pearson_baseline similarity matrix...\n",
      "Done computing similarity matrix.\n",
      "Estimating biases using als...\n",
      "Computing the pearson_baseline similarity matrix...\n",
      "Done computing similarity matrix.\n",
      "Estimating biases using als...\n",
      "Computing the pearson_baseline similarity matrix...\n",
      "Done computing similarity matrix.\n",
      "Estimating biases using als...\n",
      "Computing the pearson_baseline similarity matrix...\n",
      "Done computing similarity matrix.\n",
      "Estimating biases using als...\n",
      "Computing the pearson_baseline similarity matrix...\n",
      "Done computing similarity matrix.\n",
      "Estimating biases using als...\n",
      "Computing the pearson_baseline similarity matrix...\n",
      "Done computing similarity matrix.\n",
      "Estimating biases using als...\n",
      "Computing the pearson_baseline similarity matrix...\n",
      "Done computing similarity matrix.\n",
      "Estimating biases using als...\n",
      "Computing the pearson_baseline similarity matrix...\n",
      "Done computing similarity matrix.\n",
      "Estimating biases using als...\n",
      "Computing the pearson_baseline similarity matrix...\n",
      "Done computing similarity matrix.\n",
      "Estimating biases using als...\n",
      "Computing the pearson_baseline similarity matrix...\n",
      "Done computing similarity matrix.\n",
      "Estimating biases using als...\n",
      "Computing the pearson_baseline similarity matrix...\n",
      "Done computing similarity matrix.\n",
      "Estimating biases using als...\n",
      "Computing the pearson_baseline similarity matrix...\n",
      "Done computing similarity matrix.\n",
      "Estimating biases using als...\n",
      "Computing the pearson_baseline similarity matrix...\n",
      "Done computing similarity matrix.\n",
      "Estimating biases using als...\n",
      "Computing the pearson_baseline similarity matrix...\n",
      "Done computing similarity matrix.\n"
     ]
    }
   ],
   "source": [
    "k = 30\n",
    "precision_k,recall_k, rec_rel_avg = avg_precision_recall(random_userId, recommendation_system,\n",
    "                                                         train, test, keep_movies, movies_ratings, \n",
    "                                                         df1, keep_movies1, df2, keep_movies2, \n",
    "                                                         recommendation_system_input1, recommendation_system_input2,\n",
    "                                                         top_n, k)\n",
    "print(f'Avg Precision at {k} for {n} users: {precision_k}', file = f)\n",
    "print(f'Avg Recall at {k} for {n} users: {recall_k}', file = f)\n",
    "print(f'Avg Number of relevant recommendations at {k} for {n} users: {rec_rel_avg}', file = f)"
   ]
  },
  {
   "cell_type": "markdown",
   "metadata": {},
   "source": [
    "# Personal Diversity\n",
    "How different are the movies that we are recommending to users? Content models tend to \"profile\" people and result in over-specialization where only provide one kind of recommendation. Ideally would provide some variety.   \n",
    "- Generate recommendations for random user \n",
    "- Get \"profile\" of each recommended movie (non zero features)\n",
    "- Find cosine similarity between recommended movies. Transform to distance so maximize\n",
    "- Average over n users\n",
    "\n",
    "\n",
    "__NOTE:__ movies are compared based on the features in the current model. ie if model based on tags features, then looking at diversity of tags. If model based on genres and actors, then looking at diversity of actors and genres.   \n",
    "- For combined models, diversity based off of baseline features in df1 (genre, actors, directors) so that all movies equally comparable\n"
   ]
  },
  {
   "cell_type": "code",
   "execution_count": 21,
   "metadata": {},
   "outputs": [],
   "source": [
    "def personal_diversity(top_n, rand_user, recommendation_system, movies_ratings, df1, df2, keep_movies1, keep_movies2, \n",
    "                       recommendation_system_input1, recommendation_system_input2, cols1):\n",
    "\n",
    "    length = len(rand_user)\n",
    "    \n",
    "    # storing diversity for n users\n",
    "    diversity =[]\n",
    "    # find diversity for each user\n",
    "    for u in range(length):\n",
    "        \n",
    "        # getting recommended movies\n",
    "        recommendation = recommendation_system(rand_user[u], df1, ratings, movieIds, movies_ratings, keep_movies1,\n",
    "                                               df2, keep_movies2, recommendation_system_input1, recommendation_system_input2)\n",
    "        \n",
    "        # get top_n recommended movies \n",
    "        prediction = user_movie_id(recommendation,top_n).astype(int).values\n",
    "        predicted_index = [movieIds.index(i) for i in prediction] \n",
    "        user_df = df1[predicted_index, :]\n",
    "        user_movie_features = pd.DataFrame()\n",
    "        \n",
    "        # get movie profiles: getting only the columns that have any value 1\n",
    "        for i in range(len(prediction)):\n",
    "            nonzero_cols = [cols1[j] for j in user_df[i,:].nonzero()[1]]\n",
    "            d = {k:1 for k in nonzero_cols}\n",
    "            d = pd.DataFrame(data = d, index = [prediction[i]])    \n",
    "            user_movie_features = pd.concat([user_movie_features, d])\n",
    "\n",
    "        # replace NaN with 0\n",
    "        user_movie_features = user_movie_features.fillna(0)\n",
    "        \n",
    "        # generating cosine similarity between the recommended movies\n",
    "        sim = metrics.pairwise.cosine_similarity(np.asmatrix(user_movie_features))\n",
    "\n",
    "        # above diagonal elements. Take average (1 - similarity so get distance, which we want to maximize)\n",
    "        iu1 = np.triu_indices(user_movie_features.shape[0],k=1)\n",
    "        avg = 1 - np.mean(sim[iu1])\n",
    "        \n",
    "        # keep track across n users\n",
    "        diversity.append(avg)\n",
    "        \n",
    "    # calculating avg diversity over n users\n",
    "    avg_diversity = np.mean(diversity)\n",
    "\n",
    "    return avg_diversity"
   ]
  },
  {
   "cell_type": "code",
   "execution_count": 22,
   "metadata": {
    "scrolled": true
   },
   "outputs": [],
   "source": [
    "# get list of n random users \n",
    "random.seed(42)\n",
    "rand_user = random.sample(list_user, n)  \n",
    "\n",
    "avg_diversity = personal_diversity(top_n, rand_user, recommendation_system, movies_ratings, \n",
    "                                   df1, df2, keep_movies1, keep_movies2, \n",
    "                                   recommendation_system_input1, recommendation_system_input2, cols1)\n",
    "print(f'Average diversity over {n} users for their top {top_n} recommendations (0 = identical): {avg_diversity}', file = f)"
   ]
  },
  {
   "cell_type": "markdown",
   "metadata": {},
   "source": [
    "## Average Rating \n",
    "Want to recommend \"good\" movies with high average ratings    \n",
    "\n",
    "- Generate recommendations for random users\n",
    "- Merge in average ratings of the recommended movies\n",
    "- Take average of average ratings \n",
    "- Take average across random sample of users"
   ]
  },
  {
   "cell_type": "code",
   "execution_count": 23,
   "metadata": {},
   "outputs": [],
   "source": [
    "def average_rating(rand_user, ratings, movies_ratings, movieIds, df1, df2, keep_movies1, keep_movies2, \n",
    "                   recommendation_system, recommendation_system_input1, recommendation_system_input2):\n",
    "    \n",
    "    length = len(rand_user)\n",
    "    avg_rating = []\n",
    "\n",
    "    # loop through users\n",
    "    for u in range(length):\n",
    "        # getting recommended movies\n",
    "        recommendation = recommendation_system(rand_user[u], df1, ratings, movieIds, movies_ratings, keep_movies1,\n",
    "                                               df2, keep_movies2, recommendation_system_input1, recommendation_system_input2)\n",
    "\n",
    "        # find average all movies' average ratings \n",
    "        prediction = user_avg_rating(recommendation,top_n).values\n",
    "\n",
    "        # keep track across users\n",
    "        avg_rating.append(prediction)\n",
    "\n",
    "    # flatten list \n",
    "        # can recommend movies without ratings so lists may be diff lengths: won't work in np.mean natively\n",
    "    avg_rating = [item for sublist in avg_rating for item in sublist]\n",
    "    \n",
    "    return avg_rating"
   ]
  },
  {
   "cell_type": "code",
   "execution_count": 24,
   "metadata": {
    "scrolled": true
   },
   "outputs": [],
   "source": [
    "# random users out of users that have rated at least one of keep_movies\n",
    "list_user_keepmovies = set(ratings[(ratings.movieId.isin(keep_movies)) & (ratings.userId.isin(list_user))].userId)\n",
    "\n",
    "random.seed(42)\n",
    "rand_user = random.sample(list_user_keepmovies, n)  \n",
    "\n",
    "avg_rating = average_rating(rand_user, ratings, movies_ratings, movieIds, df1, df2, keep_movies1, keep_movies2,\n",
    "                            recommendation_system, recommendation_system_input1, recommendation_system_input2)\n",
    "\n",
    "print(f'Average movie rating of top {top_n} movies recommended to {n} users: {np.round(np.mean(avg_rating),2)}', file = f)"
   ]
  },
  {
   "cell_type": "markdown",
   "metadata": {},
   "source": [
    "__Graph Distribution of Ratings__"
   ]
  },
  {
   "cell_type": "code",
   "execution_count": 25,
   "metadata": {},
   "outputs": [
    {
     "data": {
      "text/plain": [
       "Text(0.5, 1.0, 'Ratings - Recommended Movies')"
      ]
     },
     "execution_count": 25,
     "metadata": {},
     "output_type": "execute_result"
    },
    {
     "data": {
      "image/png": "[encoded data removed]",
      "text/plain": [
       "<Figure size 432x288 with 1 Axes>"
      ]
     },
     "metadata": {
      "needs_background": "light"
     },
     "output_type": "display_data"
    }
   ],
   "source": [
    "ranges = ['0-1', '1-2', '2-3', '3-4', '4-5']\n",
    "ad = pd.DataFrame(avg_rating).melt()\n",
    "ad['ratingrange'] = pd.cut(ad['value'], bins=[0,1,2,3,4,5], labels=ranges, right=True)\n",
    "\n",
    "font = {'weight' : 'bold',\n",
    "        'size'   : 15}\n",
    "plt.rc('font', **font)\n",
    "\n",
    "ax = ad.groupby(['ratingrange'])['ratingrange'].count().plot.bar()\n",
    "ax.set_ylabel('Number of Ratings')\n",
    "ax.set_xlabel('Recommended Movie Rating')\n",
    "ax.set_title('Ratings - Recommended Movies')"
   ]
  },
  {
   "cell_type": "markdown",
   "metadata": {},
   "source": [
    "# Global Diversity: Checking for the long tail\n",
    "Want to recommend some \"unpopular\" movies such that users view movies in the long tail that they otherwise would not be exposed to\n",
    "- Generate recommendations for random  users\n",
    "- Merge in count of number of reviews for the recommended movies\n",
    "- Take the minimum count (extent of the long tail)\n",
    "- Average minimum counts across random users"
   ]
  },
  {
   "cell_type": "code",
   "execution_count": 26,
   "metadata": {
    "scrolled": true
   },
   "outputs": [],
   "source": [
    "def global_diversity(rand_user, ratings, movies_ratings, movieIds, df1, df2, keep_movies1, keep_movies2, \n",
    "                     recommendation_system, recommendation_system_input1, recommendation_system_input2):\n",
    "\n",
    "    length = len(rand_user)\n",
    "    min_cnt = []\n",
    "\n",
    "    # loop through random users\n",
    "    for u in range(length):\n",
    "        # getting recommended movies\n",
    "        recommendation = recommendation_system(rand_user[u], df1, ratings, movieIds, movies_ratings, keep_movies1,\n",
    "                                               df2, keep_movies2, recommendation_system_input1, recommendation_system_input2)\n",
    "\n",
    "        # getting the min rating cnt of the movies recommended\n",
    "        min_rating_cnt = recommendation[:top_n]['cnt'].min()\n",
    "        \n",
    "        # keep track\n",
    "        min_cnt.append(min_rating_cnt)\n",
    "\n",
    "    # take average of minimum counts \n",
    "    avg_min_cnt = np.mean(min_cnt)\n",
    "    \n",
    "    return avg_min_cnt"
   ]
  },
  {
   "cell_type": "code",
   "execution_count": 27,
   "metadata": {
    "scrolled": true
   },
   "outputs": [],
   "source": [
    "random.seed(42)\n",
    "# random sample of n users \n",
    "rand_user = random.sample(list_user, n)  \n",
    "\n",
    "avg_min_cnt = global_diversity(rand_user, ratings, movies_ratings, movieIds, df1, df2, keep_movies1, keep_movies2, \n",
    "                               recommendation_system, recommendation_system_input1, recommendation_system_input2)\n",
    "\n",
    "print(f\"Average of the minimum count of ratings for {n} user's top {top_n} recommendations (long tail):{np.round(avg_min_cnt,2)}\",\n",
    "      file = f)"
   ]
  },
  {
   "cell_type": "markdown",
   "metadata": {},
   "source": [
    "## Close File"
   ]
  },
  {
   "cell_type": "code",
   "execution_count": 28,
   "metadata": {},
   "outputs": [],
   "source": [
    "f.close()"
   ]
  }
 ],
 "metadata": {
  "kernelspec": {
   "display_name": "Python 3",
   "language": "python",
   "name": "python3"
  },
  "language_info": {
   "codemirror_mode": {
    "name": "ipython",
    "version": 3
   },
   "file_extension": ".py",
   "mimetype": "text/x-python",
   "name": "python",
   "nbconvert_exporter": "python",
   "pygments_lexer": "ipython3",
   "version": "3.8.3"
  }
 },
 "nbformat": 4,
 "nbformat_minor": 4
}
