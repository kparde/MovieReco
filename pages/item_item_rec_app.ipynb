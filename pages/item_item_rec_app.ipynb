{
 "cells": [
  {
   "cell_type": "markdown",
   "metadata": {},
   "source": [
    "# Item-Item Recommendations for Non-Users (Similar Movies)\n",
    "**Use Case**: User without a profile can get recommendations based on a movie they have previously enjoyed by displaying similar movies.    \n",
    "- Allow users to type in the title of a movie that they liked and output similar movies \n",
    "    - Too many to display as a dropdown. Streamlit crashes\n",
    "- Use same content profiles as in personalized recommendations:\n",
    "    - If entered movie has genome tags, find 5 recommendations based on similarity with top tf-idf tokens of description+tags field among movies with tags and 5 recommendations based on similarity with genre, actor, directors among movies without tags (long tail)\n",
    "    - If enter movie without genome tags, find all 10 reocmmendations based on similarity with genre, actor, directors. Movie doesn't have tags to compare with. \n",
    "- Sort on weighted average: present most popular movies at the top to gain credibility, and then present long tail movies to generate more streaming after have gained trust    \n",
    "      \n",
    "Note: if run this locally outside of app, data paths will be incorrect. Assuming running in streamlit, in which case main_app.py calls these scripts from the root folder, which is where the datasets live.   \n",
    "Also, data is being passed in from main_app, so not all required data is loaded/created in this script"
   ]
  },
  {
   "cell_type": "code",
   "execution_count": 1,
   "metadata": {},
   "outputs": [],
   "source": [
    "import pandas as pd\n",
    "import numpy as np\n",
    "import re\n",
    "import streamlit as st\n",
    "from fuzzywuzzy import fuzz\n",
    "import scipy\n",
    "import pickle"
   ]
  },
  {
   "cell_type": "markdown",
   "metadata": {},
   "source": [
    "## Item-Item Recommendations\n",
    "Generate item-item recommendations\n",
    "- Profile of selected movie (user_movieId): non-zero features\n",
    "- Similarity with all other movies in catalog. Result is the number of identical features (one hot encoded vectors)\n",
    "- Merge with movieIds and display data\n",
    "- Remove entered movie from recommendations\n",
    "- Only keep movies in keep_movies set "
   ]
  },
  {
   "cell_type": "code",
   "execution_count": null,
   "metadata": {},
   "outputs": [],
   "source": [
    "@st.cache(allow_output_mutation = True)\n",
    "def item_recs(df, df_display, movieIds, user_movieId, keep_movies):\n",
    "    \n",
    "    # get profile of selected movie\n",
    "    selected_movie_index = movieIds.index(user_movieId)\n",
    "    selected_movie = df[selected_movie_index,:]\n",
    "    \n",
    "    # similarity with all movies: result is sum of identical features \n",
    "        # ex 9 = 9 identical features. 0 = no identical features\n",
    "    recommendations = pd.DataFrame(df.dot(selected_movie.T).todense())\n",
    "    \n",
    "    # merge similarities with movieIds\n",
    "    recommendations = pd.merge(recommendations, pd.Series(movieIds).to_frame(), left_index = True, right_index = True)\n",
    "    recommendations.columns = ['prediction', 'movieId']\n",
    "\n",
    "    # merge with display data\n",
    "    recommendations = pd.merge(recommendations, df_display, on = 'movieId', how = 'left')\n",
    "    # sort on prediction and then weighted average if there's a tie\n",
    "    recommendations = recommendations.sort_values(['prediction', 'weighted_avg'], ascending = False)\n",
    "\n",
    "    # remove entered movie\n",
    "    recommendations = recommendations[recommendations.movieId != user_movieId]\n",
    "    \n",
    "    # remove movies not in keep_movies options\n",
    "    recommendations = recommendations[recommendations.movieId.isin(keep_movies)]\n",
    "\n",
    "    return recommendations"
   ]
  },
  {
   "cell_type": "markdown",
   "metadata": {},
   "source": [
    "## Combine Item-Item Recommendation models\n",
    "- Model 1 (df1): recommendations of movies without tags (keep_movies1) based on genre, actors, directors\n",
    "- Model 2 (df2): recommendations of movies with tags (keep_movie2) based on top tf-idf tokens of combined tags+description field \n",
    "- Take top 5 recommendations from each model\n",
    "- Resort based on weighted average"
   ]
  },
  {
   "cell_type": "code",
   "execution_count": 15,
   "metadata": {},
   "outputs": [],
   "source": [
    "@st.cache(allow_output_mutation = True)\n",
    "def item_recs_combined(df1, df2, df_display, movieIds, user_movieId, keep_movies1, keep_movies2, top_n = 10):\n",
    "    \n",
    "    # recommendations from each model \n",
    "    recs_notags = item_recs(df1, df_display, movieIds, user_movieId, keep_movies = keep_movies1)\n",
    "    recs_tags = item_recs(df2, df_display, movieIds, user_movieId, keep_movies = keep_movies2)\n",
    "    \n",
    "    # concat half top recommendations from each model \n",
    "    recommendations = pd.concat([recs_notags.head(int(top_n/2)), recs_tags.head(int(top_n/2))])\n",
    "\n",
    "    # resort based on weighted average: put most popular movies at the top to gain credibility \n",
    "    recommendations = recommendations.sort_values('weighted_avg', ascending = False)\n",
    "    \n",
    "    return recommendations "
   ]
  },
  {
   "cell_type": "markdown",
   "metadata": {},
   "source": [
    "# Streamlit App\n",
    "- User input: text input\n",
    "- Find options that are close to the text input based on fuzzy string matching\n",
    "    - Works for not-quite-right movie title and misspellings\n",
    "    - Top 10 IF similarity ratio > 70. Don't display anything if similarity too low\n",
    "- Select out of drop down. Drop down includes (year) \n",
    "    - Some titles are duplicate so need year\n",
    "- Get movieId from selection and use that as recommendation input\n",
    "- If user selected movie has tags, use combined model. If no tags, use single model with genre, actors, directors\n",
    "- Sort recommendations based on weighted average"
   ]
  },
  {
   "cell_type": "code",
   "execution_count": 17,
   "metadata": {},
   "outputs": [],
   "source": [
    "def write(df_display, df1, df2, movieIds, movieIds_notags, movieIds_tags):\n",
    "\n",
    "    st.title('Similar Movie Recommendations')\n",
    "    st.header('View movies similar to movies that you have enjoyed in the past')\n",
    "    st.write('Type a movie title hit Enter. You will see a list of potentially matching movies in our system.      \\n' + \n",
    "             'Select your choice and select **Display Recommendations** to see similar movies.')\n",
    "    \n",
    "    # get user input text\n",
    "    # too many movies for a full drop down \n",
    "    user_text = st.text_input(\"Movie Title\")\n",
    "    # downcase input\n",
    "    user_text = user_text.lower()\n",
    "\n",
    "    if user_text == '':\n",
    "        st.write('Waiting for input')\n",
    "    else:\n",
    "\n",
    "        # fuzzy string matching to find similarity ratio between user input and actual movie title (downcased)\n",
    "        # works for misspellings as well \n",
    "        # limit to 70% similarity \n",
    "        options = df_display.copy()\n",
    "        options['sim'] = options.title_downcased.apply(lambda row: fuzz.token_sort_ratio(row, user_text))\n",
    "        options = options[options.sim > 70].sort_values('sim', ascending = False).head(10).title_year.unique()\n",
    "\n",
    "        # find movies that are similar to what they typed \n",
    "        if len(options) > 0:\n",
    "\n",
    "            # select from dropdown \n",
    "            user_title = st.selectbox('Select Movie', options)\n",
    "            # get ID of selected movie\n",
    "            user_movieid = df_display[df_display.title_year == user_title].movieId.values[0]\n",
    "\n",
    "            if st.button('Display Recommendations'):\n",
    "                \n",
    "                # if selected movie has genome tags, \n",
    "                    # use the combined model with 5 recs based on popular movies with tags and 5 form long tail w/o tasg\n",
    "                # if selected movie does not have genome tags, \n",
    "                    # generate all 10 recommendations from metadata based model (genre, actor, director) w/ no limits on movies\n",
    "                if df_display[df_display.movieId == user_movieid].tags_num.values[0] > 0:\n",
    "                    recs = item_recs_combined(df1, df2, df_display, movieIds, user_movieid, movieIds_notags, movieIds_tags)\n",
    "                else:\n",
    "                    recs = item_recs(df1, df_display, movieIds, user_movieid, movieIds)\n",
    "                    recs = recs.head(10)\n",
    "                    recs = recs.sort_values('weighted_avg', ascending = False)\n",
    "\n",
    "                # display\n",
    "                st.write(recs.drop(columns = ['movieId', 'weighted_avg', 'actors_downcased', 'directors_downcased',\n",
    "                                              'title_downcased', 'title_year', 'decade', 'prediction', 'tags_num']))\n",
    "\n",
    "        # if nothing > 70% similiarity, then can't find a matching movie\n",
    "        else:\n",
    "            st.write(\"Sorry, we can't find any matching movies\")"
   ]
  }
 ],
 "metadata": {
  "kernelspec": {
   "display_name": "Python 3",
   "language": "python",
   "name": "python3"
  },
  "language_info": {
   "codemirror_mode": {
    "name": "ipython",
    "version": 3
   },
   "file_extension": ".py",
   "mimetype": "text/x-python",
   "name": "python",
   "nbconvert_exporter": "python",
   "pygments_lexer": "ipython3",
   "version": "3.8.3"
  }
 },
 "nbformat": 4,
 "nbformat_minor": 4
}
