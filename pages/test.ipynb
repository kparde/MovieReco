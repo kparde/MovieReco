{
 "cells": [
  {
   "cell_type": "code",
   "execution_count": null,
   "metadata": {},
   "outputs": [],
   "source": [
    "import streamlit as st\n",
    "\n",
    "#create cache object for the \"chat\"\n",
    "@st.cache(allow_output_mutation=True)\n",
    "def Chat():\n",
    "    return []\n",
    "\n",
    "def write():\n",
    "    chat=Chat()\n",
    "    name = st.sidebar.text_input(\"Name\")\n",
    "    message = st.sidebar.text_area(\"Message\")\n",
    "    if st.sidebar.button(\"Post chat message\"):\n",
    "        chat.append((name,message))\n",
    "\n",
    "    if len(chat) > 10:\n",
    "        del(chat[0])\n",
    "\n",
    "    try:\n",
    "        names, messages = zip(*chat)\n",
    "        chat1 = dict(Name = names, Message =  messages)\n",
    "        st.table(chat1)\n",
    "    except ValueError:\n",
    "        st.title(\"Enter your name and message into the sidebar, and post!\")\n",
    "        \n",
    "    st.write(chat)"
   ]
  },
  {
   "cell_type": "code",
   "execution_count": null,
   "metadata": {},
   "outputs": [],
   "source": [
    "write()"
   ]
  }
 ],
 "metadata": {
  "kernelspec": {
   "display_name": "Python 3",
   "language": "python",
   "name": "python3"
  },
  "language_info": {
   "codemirror_mode": {
    "name": "ipython",
    "version": 3
   },
   "file_extension": ".py",
   "mimetype": "text/x-python",
   "name": "python",
   "nbconvert_exporter": "python",
   "pygments_lexer": "ipython3",
   "version": "3.8.3"
  }
 },
 "nbformat": 4,
 "nbformat_minor": 4
}
