{
 "cells": [
  {
   "cell_type": "markdown",
   "metadata": {},
   "source": [
    "# Home Page For Streamlit App\n",
    "List and describe each of the pages"
   ]
  },
  {
   "cell_type": "code",
   "execution_count": null,
   "metadata": {},
   "outputs": [],
   "source": [
    "import streamlit as st"
   ]
  },
  {
   "cell_type": "code",
   "execution_count": 1,
   "metadata": {},
   "outputs": [],
   "source": [
    "def write():\n",
    "    st.title('Welcome to the Movie Recommender!')\n",
    "    st.header('Select your destination on the left menu')\n",
    "    st.write(\"\"\"\n",
    "    - **Top Movie Visualizations**: View visualizations of the movies in our catalog to understand what makes a great movie.\n",
    "    - **Top Rated Movies**: Apply filters to find the top rated movies with your desired attributes\n",
    "    - **Movie Based Recommendations**: Enter a movie that you have previously enjoyed to view similar movies\n",
    "    - **Personalized Recommendations**: Enter your user ID to find your personalized top movies + apply filters\n",
    "    - **Add Profile**: If you are not in our system, create a new profile to enable personalized recommendations\n",
    "    \"\"\")"
   ]
  }
 ],
 "metadata": {
  "kernelspec": {
   "display_name": "Python 3",
   "language": "python",
   "name": "python3"
  },
  "language_info": {
   "codemirror_mode": {
    "name": "ipython",
    "version": 3
   },
   "file_extension": ".py",
   "mimetype": "text/x-python",
   "name": "python",
   "nbconvert_exporter": "python",
   "pygments_lexer": "ipython3",
   "version": "3.8.3"
  }
 },
 "nbformat": 4,
 "nbformat_minor": 4
}
