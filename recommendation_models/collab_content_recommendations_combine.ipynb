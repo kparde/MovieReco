{
 "cells": [
  {
   "cell_type": "markdown",
   "metadata": {},
   "source": [
    "# Combine collaborative filtering and content recommendation results\n",
    "\n",
    "- Produce half recommendations from collaborative filtering and half from the content model (half based on specified number of recommendations top_n)\n",
    "- Recommendations sorted on prediction (similarity score for content, predicted rating for collab) and secondarily on weighted average of ratings if prediction is the same\n",
    "- Content model recommendations out of movies not included in collaborative filtering recommendations _for that user_ \n",
    "- Re-sort based on weighted average of movie ratings such that we produce the most \"credible\"/recognizable results first to gain the user's trust before presenting long tail recommendations\n",
    "\n",
    "Parameters:\n",
    "- user_id: ID of user to generate recommendations for\n",
    "- df1: sparse matrix of movie attributes in one hot encoded fashion with attributes from for content model \n",
    "- ratings: ratings data for each user (movies rated + star ratings)\n",
    "- movieIds: list of all movie Ids (rows of sparse matrix)\n",
    "- movies_ratings: df of movieIds with weighted average of count and average rating. Used to secondarily sort if same prediction from recommendation model\n",
    "- df2: \n",
    "    - precision = False: pregenerated collaborative filtering predictions.\n",
    "    - precision = True: test set of ratings data to generate predicitons on for precision, recall calculation\n",
    "- keep_movies1, keep_movies2: [] -- dummy parameter so that this funciton as the same inputs as the other recommendation models\n",
    "- content_recommendation_system: recommendation system to use to generate recs for content model\n",
    "    - Module of a function in another script\n",
    "- top_n: number of recommendations total to produce\n",
    "- precision: True if want to generate test rating predictions from collaboartive filtering rather than using precomputed predictions. Else False. "
   ]
  },
  {
   "cell_type": "code",
   "execution_count": 1,
   "metadata": {},
   "outputs": [],
   "source": [
    "import pandas as pd\n",
    "import os\n",
    "import numpy as np\n",
    "import datetime as datetime\n",
    "import operator\n",
    "import scipy.spatial.distance as distance\n",
    "from sklearn import metrics \n",
    "import random\n",
    "import time\n",
    "from sklearn.model_selection import train_test_split\n",
    "from sklearn.linear_model import LinearRegression\n",
    "import fastparquet\n",
    "import pickle\n",
    "import scipy\n",
    "import sklearn\n",
    "from surprise import SVD, Dataset, Reader, KNNBaseline"
   ]
  },
  {
   "cell_type": "code",
   "execution_count": 82,
   "metadata": {},
   "outputs": [],
   "source": [
    "# not using keep_movies1 or keep_movies2 \n",
    "# collab_predictions as df2\n",
    "def collab_content_combine(user_id, df1, ratings, movieIds, movies_ratings, keep_movies1, df2,\n",
    "                           keep_movies2, content_recommendation_system, collab_recommendation_system,\n",
    "                           top_n = 10, precision = False):\n",
    "    \n",
    "    collab_rec = collab_recommendation_system(user_id, df1, ratings, movieIds, movies_ratings, keep_movies1, df2,\n",
    "                                              keep_movies2, content_recommendation_system, top_n = 10, precision = precision)\n",
    "\n",
    "    # find movies in full set that are not in collaborative filtering predictions for this user\n",
    "    keep_movies = set(movieIds).difference(set(collab_rec.movieId.unique()))\n",
    "    \n",
    "    # generate recommendations from content model with movies not in collab filtering\n",
    "    content_rec = content_recommendation_system(user_id, df1, ratings, movieIds, movies_ratings, keep_movies)\n",
    "    \n",
    "    # concat half top recommendations from each model \n",
    "    recommendations = pd.concat([collab_rec.head(int(top_n/2)), content_rec.head(int(top_n/2))])\n",
    "    \n",
    "    # resort based on weighted average: present popular movies first \n",
    "    recommendations = recommendations.sort_values('weighted_avg', ascending = False)\n",
    "    \n",
    "    return recommendations"
   ]
  }
 ],
 "metadata": {
  "kernelspec": {
   "display_name": "Python 3",
   "language": "python",
   "name": "python3"
  },
  "language_info": {
   "codemirror_mode": {
    "name": "ipython",
    "version": 3
   },
   "file_extension": ".py",
   "mimetype": "text/x-python",
   "name": "python",
   "nbconvert_exporter": "python",
   "pygments_lexer": "ipython3",
   "version": "3.8.3"
  }
 },
 "nbformat": 4,
 "nbformat_minor": 4
}
