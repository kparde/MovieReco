{
 "cells": [
  {
   "cell_type": "markdown",
   "metadata": {},
   "source": [
    "# Combine two content recommendation results \n",
    "- Produce half recommendations from one model and half from the other (half based on specified number of recommendations top_n)\n",
    "- Recommendations sorted on similarity score and secondarily on weighted average of ratings if similarity is the same\n",
    "- Re-sort based on weighted average of movie ratings such that we produce the most \"credible\"/recognizable results first to gain the user's trust before presenting long tail recommendations\n",
    "\n",
    "Parameters:\n",
    "- user_id: ID of user to generate recommendations for\n",
    "- df1: sparse matrix of movie attributes in one hot encoded fashion with attribute set 1 for model 1 \n",
    "- ratings: ratings data for each user (movies rated + star ratings)\n",
    "- movieIds: list of all movie Ids (rows of sparse matrix)\n",
    "    - Same for both models as df1 and df2 include all movies to generate user profiles from \n",
    "- movies_ratings: df of movieIds with weighted average of count and average rating. Used to secondarily sort if same prediction from recommendation model\n",
    "- keep_movies1: subset of movies (list of movie ids) that we want to limit our recommendations to for model 1\n",
    "- df2: sparse matrix of movei attributes in one hot encoded fashion with attribute set 2 for model 2\n",
    "- keep_movies2: subset of movies (list of movie ids) that we want to limit our recommendations to for model 2\n",
    "- recommendation_system: recommendation system to use to generate recs for both model 1 and 2 \n",
    "    - Module of a function in another script\n",
    "- top_n: number of recommendations total to produce\n",
    "- precision, recommendation_system2: dummy parameter so that this funciton as the same inputs as other content models. "
   ]
  },
  {
   "cell_type": "code",
   "execution_count": 2,
   "metadata": {},
   "outputs": [],
   "source": [
    "import pandas as pd\n",
    "import os\n",
    "import numpy as np\n",
    "import matplotlib.pyplot as plt\n",
    "import seaborn as sns\n",
    "import datetime as datetime\n",
    "import operator\n",
    "import scipy.spatial.distance as distance\n",
    "from sklearn import metrics \n",
    "import random\n",
    "import time\n",
    "from sklearn.model_selection import train_test_split\n",
    "from sklearn.linear_model import LinearRegression\n",
    "import fastparquet\n",
    "import pickle\n",
    "import scipy\n",
    "import sklearn"
   ]
  },
  {
   "cell_type": "code",
   "execution_count": null,
   "metadata": {},
   "outputs": [],
   "source": [
    "def content_models_combine(user_id, df1, ratings, movieIds, movies_ratings, \n",
    "                           keep_movies1, df2, keep_movies2, recommendation_system, \n",
    "                           recommendation_system2 = False, top_n = 10, precision = False):\n",
    "    \n",
    "    # generate recommendations from each model with respective dataframes and kept movies\n",
    "    recommend1 = recommendation_system(user_id, df1, ratings, movieIds, movies_ratings, keep_movies1)\n",
    "    recommend2 = recommendation_system(user_id, df2, ratings, movieIds, movies_ratings, keep_movies2)\n",
    "    \n",
    "    # concat half top recommendations from each model \n",
    "    recommendations = pd.concat([recommend1.head(int(top_n/2)), recommend2.head(int(top_n/2))])\n",
    "    \n",
    "    # resort based on weighted average: present popular movies first \n",
    "    recommendations = recommendations.sort_values('weighted_avg', ascending = False)\n",
    "    \n",
    "    return recommendations"
   ]
  }
 ],
 "metadata": {
  "kernelspec": {
   "display_name": "Python 3",
   "language": "python",
   "name": "python3"
  },
  "language_info": {
   "codemirror_mode": {
    "name": "ipython",
    "version": 3
   },
   "file_extension": ".py",
   "mimetype": "text/x-python",
   "name": "python",
   "nbconvert_exporter": "python",
   "pygments_lexer": "ipython3",
   "version": "3.8.3"
  }
 },
 "nbformat": 4,
 "nbformat_minor": 4
}
